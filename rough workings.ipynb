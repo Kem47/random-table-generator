{
 "cells": [
  {
   "cell_type": "code",
   "execution_count": 17,
   "id": "62cad6c5-b7d1-4ee0-a1ed-33b0523b90ed",
   "metadata": {},
   "outputs": [],
   "source": [
    "import pyparsing as pp"
   ]
  },
  {
   "cell_type": "code",
   "execution_count": 12,
   "id": "bdae6b81-ffbd-4513-b829-93b09ffacc87",
   "metadata": {},
   "outputs": [],
   "source": [
    "file = open('trash.txt', 'r').read().split('\\n')"
   ]
  },
  {
   "cell_type": "code",
   "execution_count": 13,
   "id": "4a50c5de-b66d-4d7a-b403-c50aa6f74bdd",
   "metadata": {},
   "outputs": [
    {
     "data": {
      "text/plain": [
       "['1. Abandoned Factory ',\n",
       " '2. Abandoned Mine ',\n",
       " '3. Abandoned Office ',\n",
       " '4. Abandoned Quarry ',\n",
       " '5. Abandoned Road ',\n",
       " '6. Abandoned Subway',\n",
       " '7. Abandoned Warehouse ',\n",
       " '8. Abbey',\n",
       " '9. Academy',\n",
       " '10. Active Volcano ']"
      ]
     },
     "execution_count": 13,
     "metadata": {},
     "output_type": "execute_result"
    }
   ],
   "source": [
    "file[:10]"
   ]
  },
  {
   "cell_type": "code",
   "execution_count": 38,
   "id": "770c037d-d720-4d12-af49-956f52d1e6af",
   "metadata": {},
   "outputs": [],
   "source": [
    "file2 = []\n",
    "for line in file:\n",
    "    file2.append(line.rstrip())"
   ]
  },
  {
   "cell_type": "code",
   "execution_count": 41,
   "id": "9d4c396d-db2c-4a5e-90b6-dfd4ae7c8c2e",
   "metadata": {},
   "outputs": [
    {
     "data": {
      "text/plain": [
       "['1. Abandoned Factory',\n",
       " '2. Abandoned Mine',\n",
       " '3. Abandoned Office',\n",
       " '4. Abandoned Quarry',\n",
       " '5. Abandoned Road',\n",
       " '6. Abandoned Subway',\n",
       " '7. Abandoned Warehouse',\n",
       " '8. Abbey',\n",
       " '9. Academy',\n",
       " '10. Active Volcano']"
      ]
     },
     "execution_count": 41,
     "metadata": {},
     "output_type": "execute_result"
    }
   ],
   "source": [
    "file2[:10]"
   ]
  },
  {
   "cell_type": "code",
   "execution_count": 42,
   "id": "ad938aba-df68-439d-a7f6-476aa4e51671",
   "metadata": {},
   "outputs": [],
   "source": [
    "end = pp.StringEnd()\n",
    "structure = pp.Word(pp.nums) + '.' + pp.White() + pp.SkipTo(end)('keep') + end"
   ]
  },
  {
   "cell_type": "code",
   "execution_count": 43,
   "id": "3cc21da7-c457-4b68-ad5c-22c31cf6fc82",
   "metadata": {},
   "outputs": [],
   "source": [
    "output = []\n",
    "for line in file2:\n",
    "    matches = structure.scan_string(line)\n",
    "    for match, start, end in matches:\n",
    "        output.append(str(match.keep))"
   ]
  },
  {
   "cell_type": "code",
   "execution_count": 44,
   "id": "a4917fb9-de80-42fb-a162-bae6919df248",
   "metadata": {},
   "outputs": [
    {
     "data": {
      "text/plain": [
       "['Abandoned Factory',\n",
       " 'Abandoned Mine',\n",
       " 'Abandoned Office',\n",
       " 'Abandoned Quarry',\n",
       " 'Abandoned Road',\n",
       " 'Abandoned Subway',\n",
       " 'Abandoned Warehouse',\n",
       " 'Abbey',\n",
       " 'Academy',\n",
       " 'Active Volcano']"
      ]
     },
     "execution_count": 44,
     "metadata": {},
     "output_type": "execute_result"
    }
   ],
   "source": [
    "output[:10]"
   ]
  },
  {
   "cell_type": "code",
   "execution_count": 9,
   "id": "cb4e5b4f-c5c4-4df5-93dc-a69278f891b2",
   "metadata": {},
   "outputs": [],
   "source": [
    "output = []\n",
    "for i in file:\n",
    "    if i == '':\n",
    "        continue\n",
    "    else:\n",
    "        split = i.split()\n",
    "        output.append(split[0])"
   ]
  },
  {
   "cell_type": "code",
   "execution_count": 46,
   "id": "a42e3e59-20b1-4db1-be06-332f4111e64e",
   "metadata": {},
   "outputs": [],
   "source": [
    "with open('locations.txt', 'w') as f:\n",
    "    for line in output:\n",
    "        f.write(f\"{line}\\n\")"
   ]
  },
  {
   "cell_type": "code",
   "execution_count": null,
   "id": "be501d03-d8df-4475-8160-72c5622c33c4",
   "metadata": {},
   "outputs": [],
   "source": []
  }
 ],
 "metadata": {
  "kernelspec": {
   "display_name": "Python 3 (ipykernel)",
   "language": "python",
   "name": "python3"
  },
  "language_info": {
   "codemirror_mode": {
    "name": "ipython",
    "version": 3
   },
   "file_extension": ".py",
   "mimetype": "text/x-python",
   "name": "python",
   "nbconvert_exporter": "python",
   "pygments_lexer": "ipython3",
   "version": "3.8.13"
  }
 },
 "nbformat": 4,
 "nbformat_minor": 5
}
